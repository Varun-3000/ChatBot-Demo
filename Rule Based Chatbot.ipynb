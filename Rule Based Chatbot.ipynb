{
 "cells": [
  {
   "cell_type": "code",
   "execution_count": 1,
   "id": "1f1af3e6",
   "metadata": {},
   "outputs": [],
   "source": [
    "import re\n",
    "import random"
   ]
  },
  {
   "cell_type": "code",
   "execution_count": 2,
   "id": "5fb15b2f",
   "metadata": {},
   "outputs": [],
   "source": [
    "class RuleBot:\n",
    "    #potential negative responses\n",
    "    negative_responses=(\"no\",\"nope\",\"nah\",\"naw\",\"not a chance\",\"sorry\")\n",
    "    #exit conversations\n",
    "    exit_commands=(\"quit\",\"pause\",\"exit\",\"goodbye\",\"bye\",\"later\")\n",
    "    # random starter questions\n",
    "    random_questions=(\n",
    "        \"Why are you here?\",\n",
    "        \"Are there any humans like you?\",\n",
    "        \"What do you consume for sustenance?\",\n",
    "        \"Is there intelligent life on this planet?\",\n",
    "        \"Does Earth have a leader?\",\n",
    "        \"What planets have you visites?\",\n",
    "        \"What technology do you have on this planet?\"\n",
    "    )\n",
    "    def __init__(self):\n",
    "        self.alienbabble={'describe_planet_intent':r'.*\\s*your planet.*',\n",
    "                         'answer_why_intent':r'why\\sare*',\n",
    "                          'about_intellipat':r'.*\\s*intellipat',\n",
    "                          'about_session':r'.*\\s*session'\n",
    "                         }\n",
    "    def greet(self):\n",
    "        self.name=input(\"What's your name?\\n\")\n",
    "        will_help=input(f\"Hi {self.name},I am a Rule Bot.Will you help me learn about your planet?\\n\")\n",
    "        if will_help in self.negative_responses:\n",
    "            print(\"Ok,have a nice Earth day!\")\n",
    "            return\n",
    "        self.chat()\n",
    "    def make_exit(self,reply):\n",
    "        for command in self.exit_commands:\n",
    "            if reply==command:\n",
    "                print(\"Okay,have a nice Earth day!\");\n",
    "                return True\n",
    "    def chat(self):\n",
    "        reply=input(random.choice(self.random_questions)).lower()\n",
    "        while not self.make_exit(reply):\n",
    "            reply=input(self.match_reply(reply))\n",
    "    def match_reply(self,reply):\n",
    "        for key,value in self.alienbabble.items():\n",
    "            intent=key\n",
    "            regex_pattern=value\n",
    "            found_match=re.match(regex_pattern,reply)\n",
    "            if found_match and intent=='describe_planet_intent':\n",
    "                return self.decribe_planet_intent()\n",
    "            elif found_match and intent=='answer_why_intent':\n",
    "                return self.answer_why_intent() \n",
    "            elif found_match and intent=='about_intellipat':\n",
    "                return self.about_intellipat()\n",
    "            elif found_match and intent=='about_session':\n",
    "                return self.about_session()\n",
    "        if not found_match:\n",
    "            return self.no_match_intent()\n",
    "    def describe_planet_intent(self):\n",
    "        responses=(\"My planet is a utopia of diverse organisms and species.\\n\",\n",
    "                   \"I am from Odipius,the capital of Wayward Galaxies.\\n\"\n",
    "                    )\n",
    "        return random.choice(responses)\n",
    "    def about_session(self):\n",
    "        responses=(\"The session is scheduled for afternoon.\\n\",\n",
    "                   \"The session is cool.\\n\")\n",
    "        return random.choice(responses)\n",
    "    \n",
    "    def answer_why_planet(self):\n",
    "        responses=(\"I come in peace.\\n\",\"I am here to collect data on your planet and its inhabitants\\n\",\n",
    "                   \"I heard the coffee is good.\\n\"\n",
    "                    )\n",
    "        return random.choice(responses)\n",
    "    \n",
    "    def about_intellipat(self):\n",
    "        responses=(\"Intellipat is world's largest professional educational company.\\n\",\n",
    "                   \"Intellipat will make you learn concepts in the way never learned before\",\n",
    "                   \"Intellipat is where your career and skill grows.\\n\"\n",
    "                    )\n",
    "        return random.choice(responses)\n",
    "    \n",
    "    def no_match_intent(self):\n",
    "        responses=(\"Please,tell me more.\\n\",\"Tell me more!\\n\",\"Why do you say that?\\n\",\"I see.Can you elaborate?\\n\",\n",
    "                \"Interesting.Can you tell me more?\\n\",\"I see.How do you think?\\n\",\"Why?\\n\",\n",
    "                  \"How do you think I feel when you say that?\\n\"\n",
    "                 )\n",
    "        return random.choice(responses)"
   ]
  },
  {
   "cell_type": "code",
   "execution_count": 3,
   "id": "b972c459",
   "metadata": {},
   "outputs": [
    {
     "name": "stdout",
     "output_type": "stream",
     "text": [
      "What's your name?\n",
      "Pavi\n",
      "Hi Pavi,I am a Rule Bot.Will you help me learn about your planet?\n",
      "Sure\n",
      "Is there intelligent life on this planet?yes\n",
      "I see.Can you elaborate?\n",
      "how was the session\n",
      "The session is scheduled for afternoon.\n",
      "oh i see\n",
      "Please,tell me more.\n",
      "thank you\n",
      "Tell me more!\n",
      "stop\n",
      "I see.Can you elaborate?\n",
      "end\n",
      "How do you think I feel when you say that?\n",
      "quit\n",
      "Okay,have a nice Earth day!\n"
     ]
    }
   ],
   "source": [
    "AlienBot=RuleBot()\n",
    "AlienBot.greet()"
   ]
  },
  {
   "cell_type": "code",
   "execution_count": null,
   "id": "16794040",
   "metadata": {},
   "outputs": [],
   "source": []
  },
  {
   "cell_type": "code",
   "execution_count": null,
   "id": "f9f6000f",
   "metadata": {},
   "outputs": [],
   "source": []
  }
 ],
 "metadata": {
  "kernelspec": {
   "display_name": "Python 3 (ipykernel)",
   "language": "python",
   "name": "python3"
  },
  "language_info": {
   "codemirror_mode": {
    "name": "ipython",
    "version": 3
   },
   "file_extension": ".py",
   "mimetype": "text/x-python",
   "name": "python",
   "nbconvert_exporter": "python",
   "pygments_lexer": "ipython3",
   "version": "3.11.4"
  }
 },
 "nbformat": 4,
 "nbformat_minor": 5
}
